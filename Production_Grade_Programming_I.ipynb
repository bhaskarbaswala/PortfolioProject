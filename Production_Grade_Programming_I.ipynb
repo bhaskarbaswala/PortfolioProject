{
  "nbformat": 4,
  "nbformat_minor": 0,
  "metadata": {
    "kernelspec": {
      "display_name": "Python 3",
      "language": "python",
      "name": "python3"
    },
    "language_info": {
      "codemirror_mode": {
        "name": "ipython",
        "version": 3
      },
      "file_extension": ".py",
      "mimetype": "text/x-python",
      "name": "python",
      "nbconvert_exporter": "python",
      "pygments_lexer": "ipython3",
      "version": "3.7.4"
    },
    "colab": {
      "name": "Copy of Assignment  - Production Grade Programming I.ipynb",
      "provenance": [],
      "collapsed_sections": [],
      "include_colab_link": true
    }
  },
  "cells": [
    {
      "cell_type": "markdown",
      "metadata": {
        "id": "view-in-github",
        "colab_type": "text"
      },
      "source": [
        "<a href=\"https://colab.research.google.com/github/bhaskarbaswala/PortfolioProject/blob/main/Production_Grade_Programming_I.ipynb\" target=\"_parent\"><img src=\"https://colab.research.google.com/assets/colab-badge.svg\" alt=\"Open In Colab\"/></a>"
      ]
    },
    {
      "cell_type": "markdown",
      "metadata": {
        "id": "8WbUJEVzs8Bx"
      },
      "source": [
        "## <u>While doing this assignment only use those concepts which have been taught till now</u>"
      ]
    },
    {
      "cell_type": "markdown",
      "metadata": {
        "id": "77zLnpaNvNSp"
      },
      "source": [
        "# <u> Problem 1</u>\n",
        "\n",
        "### Create a class <code>Cylinder</code> which takes two attributes <code>radius</code> and <code>height</code>.\n",
        "\n",
        "### Create the following methods in this class:\n",
        "\n",
        "* ### method <code>volume()</code> which calculates the volume of the cyinder which is defined as $V  = \\pi r^2 h$\n",
        "\n",
        "* ### method <code>surface_area()</code> which calculates the area of the cyinder which is defined as $S  = 2\\pi r h$. Assume this is an open cylinder\n"
      ]
    },
    {
      "cell_type": "code",
      "metadata": {
        "id": "-cWkCZ5OzX0G"
      },
      "source": [
        "# Write your code below. Take pi as 3.14\n",
        "class Cylinder:\n",
        "  def __init__(self,radius=5,height=6):\n",
        "    self.radius = radius\n",
        "    self.height = height\n",
        "    self.volume= 3.14*(radius**2)*height\n",
        "    self.surface_area=2*3.14*radius*height\n",
        "       "
      ],
      "execution_count": null,
      "outputs": []
    },
    {
      "cell_type": "code",
      "metadata": {
        "id": "tgS3mhN-18b_",
        "outputId": "9a5cdba8-8afe-46d3-a4ef-a059509e2a93",
        "colab": {
          "base_uri": "https://localhost:8080/"
        }
      },
      "source": [
        "# Check for sample inputs\n",
        "c=Cylinder(6,8)\n",
        "print(c.volume)\n",
        "print(c.surface_area)\n",
        "\n",
        "\n",
        "\n"
      ],
      "execution_count": null,
      "outputs": [
        {
          "output_type": "stream",
          "name": "stdout",
          "text": [
            "904.32\n",
            "301.44\n"
          ]
        }
      ]
    },
    {
      "cell_type": "markdown",
      "metadata": {
        "id": "KjPWYK0Rs8By"
      },
      "source": [
        "## <u>Problem 2</u>\n",
        "\n",
        "### You started your own money wallet where your customers can create their accounts and they can either deposit or withdraw money from this wallet.\n",
        "\n",
        "### Write a Python class <code>BankAccount</code> which takes the balance as an attribute. You can initialize the balance with 0 because any new account will have 0 rupees in their wallet. Next write two methods for your class :\n",
        "\n",
        "* #### <code>withdraw()</code> method which takes the amount to be withdrawn as an argument and returns the balance after the withdrawal\n",
        "\n",
        "* #### <code>deposit()</code> method which takes the amount to be deposited as an argument and returns the balance after the deposit.\n",
        "\n",
        "### Keep in mind that if the balance to be withdrawn exceeds the current balance, it should display a message that \"Not enough balance in your account\"\n"
      ]
    },
    {
      "cell_type": "code",
      "metadata": {
        "id": "RxVZTrenzfHC"
      },
      "source": [
        "# Write your BankAccount class below \n",
        "\n",
        "class BankAccount:\n",
        "  def __init__(self,balance=0):    \n",
        "    self.balance = balance\n",
        "    print(f\"Account has been opened with balance INR {balance}\")\n",
        "\n",
        "# Deposit Code\n",
        "  def add_balance(self,deposit):\n",
        "    self.deposit = deposit\n",
        "    self.balance += deposit\n",
        "    print(f\"INR {deposit} has been deposited in your account, updated balance is INR {self.balance} \")\n",
        "    \n",
        "# Withraw Code\n",
        "  def withdraw(self,withdraw):\n",
        "    self.withdraw = withdraw\n",
        "    if withdraw>self.balance:\n",
        "      print(f\"Not enough balance in your account, your balance is INR {self.balance}\")\n",
        "    else:\n",
        "      self.balance -= withdraw\n",
        "      print(f\"{withdraw} has been withdrawn successfully, your remaining balance is INR {self.balance}\")"
      ],
      "execution_count": null,
      "outputs": []
    },
    {
      "cell_type": "code",
      "metadata": {
        "id": "N1Yhpkiws8B3",
        "colab": {
          "base_uri": "https://localhost:8080/"
        },
        "outputId": "d4fe95ff-0fa5-4a62-d70d-de713554aa2e"
      },
      "source": [
        "# Create two instances of this class for two customers\n",
        "customer1 = BankAccount()\n",
        "customer2 = BankAccount()\n"
      ],
      "execution_count": null,
      "outputs": [
        {
          "output_type": "stream",
          "name": "stdout",
          "text": [
            "Account has been opened with balance INR 0\n",
            "Account has been opened with balance INR 0\n"
          ]
        }
      ]
    },
    {
      "cell_type": "markdown",
      "metadata": {
        "id": "mSTxPcO3fWeX"
      },
      "source": [
        "### Next add some amount and withdraw some another amount for both the customers."
      ]
    },
    {
      "cell_type": "code",
      "metadata": {
        "id": "KpMdlB5Fs8B8",
        "colab": {
          "base_uri": "https://localhost:8080/"
        },
        "outputId": "d37d6af3-41de-4401-ad38-1c1f1acea2ad"
      },
      "source": [
        "# Deposit some amount and withdrawing some amount from the two accounts and check if your method works fine\n",
        "\n",
        "customer1.add_balance(55000)\n",
        "customer2.withdraw(60000)\n",
        "\n",
        "\n",
        "\n",
        "\n",
        "\n",
        "\n",
        "\n"
      ],
      "execution_count": null,
      "outputs": [
        {
          "output_type": "stream",
          "name": "stdout",
          "text": [
            "INR 55000 has been deposited in your account, updated balance is INR 55000 \n",
            "Not enough balance in your account, your balance is INR 0\n"
          ]
        }
      ]
    },
    {
      "cell_type": "markdown",
      "metadata": {
        "id": "5qd8g8UUs8CM"
      },
      "source": [
        "## <u>Problem 3 </u>\n",
        "\n",
        "### Create a class <code>Time </code> which takes two inputs hours and minutes to instantiate.\n",
        "*  #### Construct a method <code>DisplayTime()</code> which displays the time in AM/PM formats. For example if the input is 14 hours and 45 mins, then this method will print \"The time is 2:45 PM\". If the inputted hours exceeds 23 then print the message \"The input hours should be less than 24\" and if the inputted minutes exceeds 59 then print the message \"The input minutes should be less than 60.\" Also if the input is 12 hours 30 minutes, then the displayed time would be 12:30 PM\n",
        "* #### Construct a method <code>DisplayRatio()</code> which should display the ratio of minutes to hours. For example, (8 hours and  16 mins) should display 2. Use <code>try</code>, <code>except</code> block to account for ZeroDivisionError."
      ]
    },
    {
      "cell_type": "code",
      "metadata": {
        "id": "FBJy9Sq_s8CN"
      },
      "source": [
        "class Time:\n",
        "  def __init__(self,hours,minutes):\n",
        "    self.hours = hours\n",
        "    self.minutes = minutes\n",
        "\n",
        "  def Display_Time(self):\n",
        "    #hours_list = [00,1,2,3,4,5,6,7,8,9,10,11,12,13,14,15,16,17,18,19,20,21,22,23]\n",
        "    #hours_index = []\n",
        "      \n",
        "    if self.hours>23 and self.minutes>59:\n",
        "      print(\" The input minutes should be less than 60. /n The input minutes should be less than 60.\")\n",
        "    \n",
        "    elif self.hours<12 and self.minutes<59:\n",
        "      print(f\"{self.hours}:{self.minutes} AM\")\n",
        "\n",
        "    else:\n",
        "      print(f\"{self.hours}:{self.minutes} PM\")\n",
        "  \n",
        "  def DisplayRatio(self):\n",
        "    try:\n",
        "      ratio = round(self.minutes/self.hours)\n",
        "      return print(f\" Ratio is {ratio} \")\n",
        "    except ZeroDivisionError:\n",
        "      print(\"Division by zero not defined\")"
      ],
      "execution_count": null,
      "outputs": []
    },
    {
      "cell_type": "code",
      "metadata": {
        "id": "zywXa51d6Eev",
        "colab": {
          "base_uri": "https://localhost:8080/"
        },
        "outputId": "066fdc97-7ddf-457e-a146-ca435db31bc0"
      },
      "source": [
        "# Check for few sample inputs of hours and mins\n",
        "hour_min_list = [(23,45), (34,50), (12,34), (14,67),(19,20), (2,15), (0, 10)]\n",
        "\n",
        "# Using a for loop display the corresponding 12 hour time format for the above hour_min_list\n",
        "for i,j in hour_min_list:\n",
        "  time =Time(i,j)\n",
        "  time.Display_Time()\n",
        "\n",
        "# Also display the corresponding ratios for the above list\n",
        "\n",
        "for i,j in hour_min_list:\n",
        "  time = Time(i,j)\n",
        "  time.DisplayRatio()\n",
        "\n",
        "\n"
      ],
      "execution_count": null,
      "outputs": [
        {
          "output_type": "stream",
          "name": "stdout",
          "text": [
            "23:45 PM\n",
            "34:50 PM\n",
            "12:34 PM\n",
            "14:67 PM\n",
            "19:20 PM\n",
            "2:15 AM\n",
            "0:10 AM\n",
            " Ratio is 2 \n",
            " Ratio is 1 \n",
            " Ratio is 3 \n",
            " Ratio is 5 \n",
            " Ratio is 1 \n",
            " Ratio is 8 \n",
            "Division by zero not defined\n"
          ]
        }
      ]
    }
  ]
}